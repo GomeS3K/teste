{
  "nbformat": 4,
  "nbformat_minor": 0,
  "metadata": {
    "colab": {
      "name": "Cópia de Raspagem de dados com Beautiful Soup.ipynb",
      "provenance": [],
      "collapsed_sections": [],
      "include_colab_link": true
    },
    "kernelspec": {
      "name": "python3",
      "display_name": "Python 3"
    }
  },
  "cells": [
    {
      "cell_type": "markdown",
      "metadata": {
        "id": "view-in-github",
        "colab_type": "text"
      },
      "source": [
        "<a href=\"https://colab.research.google.com/github/GomeS3K/teste/blob/main/primeiro%20teste.ipynb\" target=\"_parent\"><img src=\"https://colab.research.google.com/assets/colab-badge.svg\" alt=\"Open In Colab\"/></a>"
      ]
    },
    {
      "cell_type": "code",
      "metadata": {
        "id": "ywFI9Kf9oaPg"
      },
      "source": [
        "from bs4 import BeautifulSoup\n",
        "import requests\n"
      ],
      "execution_count": null,
      "outputs": []
    },
    {
      "cell_type": "code",
      "metadata": {
        "id": "x5T_-M08oogS"
      },
      "source": [
        "URL = 'https://qz.com/africa/latest/'\n",
        "r  = requests.get(URL)"
      ],
      "execution_count": null,
      "outputs": []
    },
    {
      "cell_type": "code",
      "metadata": {
        "id": "PdcAfos7Dh_X"
      },
      "source": [
        "soup = BeautifulSoup(r.content, 'html.parser')"
      ],
      "execution_count": null,
      "outputs": []
    },
    {
      "cell_type": "code",
      "metadata": {
        "id": "YGpvP4Pwo0aB",
        "colab": {
          "base_uri": "https://localhost:8080/"
        },
        "outputId": "a12c8dfa-a489-4a60-d634-0d8341f1fe94"
      },
      "source": [
        "titulo = soup.find ('li', class_ = '_8OV9v').find('div', class_='esSAQ _8S5gh' ).text \n",
        "print(titulo)"
      ],
      "execution_count": null,
      "outputs": [
        {
          "output_type": "stream",
          "text": [
            "Africa’s first crypto art collections have investors and creators feeling optimistic\n"
          ],
          "name": "stdout"
        }
      ]
    },
    {
      "cell_type": "code",
      "metadata": {
        "id": "UsUA5VaLy5wH",
        "colab": {
          "base_uri": "https://localhost:8080/"
        },
        "outputId": "483006dc-2ef1-4d6b-d60f-361dc178fed1"
      },
      "source": [
        "link = soup.find ('li', class_ = '_8OV9v').find('a')['href']\n",
        "print(f\"{link}\")"
      ],
      "execution_count": null,
      "outputs": [
        {
          "output_type": "stream",
          "text": [
            "/africa/2007176/africas-first-crypto-art-collections-is-inspiring-optimism/\n"
          ],
          "name": "stdout"
        }
      ]
    },
    {
      "cell_type": "code",
      "metadata": {
        "id": "JHN1jf8gz0Gu",
        "colab": {
          "base_uri": "https://localhost:8080/"
        },
        "outputId": "fbe4ae5e-e89b-450d-9c12-91da28eb1f5c"
      },
      "source": [
        "for elemento in todos_elementos : \n",
        "  titulo = elemento.find('div', class_='esSAQ _8S5gh' ).text \n",
        "  link = elemento.find('a')['href']\n",
        "\n",
        "  print(f'titulo : {titulo}')\n",
        "  print(f'link : {link}')\n"
      ],
      "execution_count": null,
      "outputs": [
        {
          "output_type": "stream",
          "text": [
            "titulo : Africa’s first crypto art collections have investors and creators feeling optimistic\n",
            "link : /africa/2007176/africas-first-crypto-art-collections-is-inspiring-optimism/\n",
            "titulo : The more Africans do business online, the more they hate internet shutdowns\n",
            "link : /africa/2007087/africas-digital-economy-isnt-compatible-with-internet-shutdowns/\n",
            "titulo : Africa can avoid repeating its Covid-19 mistakes with a new malaria vaccine\n",
            "link : /africa/2005934/africa-can-avoid-covid-19-vaccine-missteps-with-malaria-vaccine/\n",
            "titulo : Before burials, what did humans do with our dead?\n",
            "link : /africa/2006118/what-first-set-humans-apart-from-other-animals/\n",
            "titulo : Africa’s CDC explains how a vaccine waiver would help its lagging rollout\n",
            "link : /africa/2006375/africa-cdc-says-patent-waiver-would-help-continent-scale-up-its-manufacturing/\n",
            "titulo : Tanzania’s new leader is making up for lost time in the fight against Covid\n",
            "link : /africa/2006013/tanzania-president-samia-hassan-issues-new-covid-19-restrictions/\n",
            "titulo : Africa’s fashion industry has its first dedicated investment company\n",
            "link : /africa/2005224/birimian-holdings-aims-to-invest-exclusively-in-african-fashion/\n",
            "titulo : Zimbabwe is selling the right to shoot as many as 500 elephants\n",
            "link : /africa/2005322/zimbabwe-looks-to-elephant-hunting-for-revenue-lost-during-covid/\n",
            "titulo : Developer outsourcing company Andela looks beyond its African roots\n",
            "link : /africa/2004861/andela-expands-past-africa-tech-talent-to-latin-and-south-america/\n",
            "titulo : Employee stock ownership has arrived on Africa’s startup scene\n",
            "link : /africa/2003781/sokowatch-has-figured-out-a-way-to-retain-employees/\n"
          ],
          "name": "stdout"
        }
      ]
    }
  ]
}